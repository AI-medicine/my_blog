{
 "cells": [
  {
   "cell_type": "code",
   "execution_count": 2,
   "metadata": {},
   "outputs": [],
   "source": [
    "#hide\n",
    "!pip install -Uqq fastbook\n",
    "import fastbook\n",
    "fastbook.setup_book()"
   ]
  },
  {
   "cell_type": "code",
   "execution_count": 3,
   "metadata": {},
   "outputs": [],
   "source": [
    "#hide\n",
    "from fastbook import *\n",
    "from fastai.vision.widgets import *"
   ]
  },
  {
   "cell_type": "markdown",
   "metadata": {},
   "source": [
    "# My first blog post (ever)"
   ]
  },
  {
   "cell_type": "markdown",
   "metadata": {},
   "source": [
    "Hello dear reader!\n",
    "\n",
    "Welcome to my blog. This is my first post. I am currently taking the fast.ai2 deep learning course and as Rachel Thomas (the co-founder of fast.ai) recommended to start your own blog, I did so and set up my blog here. (This is really my first blog ever).\n",
    "\n",
    "So in this post I want to introduce myself, what I have learned so far with fast.ai2 and what I am currently working on.\n",
    "\n"
   ]
  },
  {
   "cell_type": "markdown",
   "metadata": {},
   "source": [
    "# About me:\n"
   ]
  },
  {
   "cell_type": "markdown",
   "metadata": {},
   "source": [
    "I am a medicine student from Germany and currently also learning deep learning to deploy it in pathology."
   ]
  },
  {
   "cell_type": "markdown",
   "metadata": {},
   "source": [
    "# My journey so far in medical studies and coding:"
   ]
  },
  {
   "cell_type": "markdown",
   "metadata": {},
   "source": [
    "So I have been interested in artificial intelligence (AI) for some time and especially for ways to combine it with medical studies.\n",
    "\n",
    "With AI I refer to anything in AI. It was only some time later, that I realized that my chances to do something meaningful with medicine and AI without studying computer science for example, would be probably best with deep learning (which is a part of machine learning). \n",
    "\n",
    "I have no profound coding background. Three years ago, I participated in a first coding Python beginner course from my university. Afterwards I also peeked from time to time into AI topics, but I never really found a way to focus on it more. \n",
    "\n",
    "Until one year after my first coding course, I was also very busy with finishing the pre clinics part of my medical studies curriculum (in Germany the first 4 semesters of medical studies are part of this). That was a stressful time :).\n",
    "\n",
    "So it was only around the end of 2018 - after the big first final state examination with which I successfully finished my pre clinics section - that I could also look a little around into other interests besides medical studies.\n",
    "\n",
    "But I was also fascinated by neuroscience at that time and or especially by the intersection between neuroscience and AI. So I also looked into a neuroscience lab belonging to my university first. After several months of joining there for seminars and watching experiments, it didn't work out as I had hoped for myself.\n",
    "\n",
    "\n",
    "So a little later, as I was frustrated and was not really sure where to go, I started to just continue to learn Python. It was late 2019 that I continued with Python. I ordered a \"Crash Course\" Python book (it is better as one may think from the title). I would highly recommend this book to people who have no idea about coding and would also like to do something with deep learning or programming in general and don't know where to start. But of course I have no comparison and therefore I can only pass on what worked for me (until now).\n",
    "\n",
    "(Full name of the book: Python Crash Course, 2nd Edition: A Hands-On, Project-Based Introduction to Programming, Eric Matthes)\n",
    "\n",
    "\n",
    "So I was still looking for a way to do something with AI or fancy \"neuroscience\".\n",
    "I finally ended up in pathology, as my current advisor for my doctoral thesis uses deep learning methods in his research as well.\n",
    "\n",
    "\n",
    "This is how I also landed at the fast.ai2 course (after another book and another course I tried).\n",
    "\n",
    "So I am still in the course, and want to deploy deep learning soon in pathology, especially for using whole slide images (for some weeks I have already been experimenting with using deep learning (especially from the fast.ai library) for pathology, but I am also making the switch from the fastai1 to the fastai2 library at the moment).\n",
    "\n",
    "\n",
    "Thank you dear reader, for following me until here (and if not, that's also totally ok :) )."
   ]
  },
  {
   "cell_type": "markdown",
   "metadata": {},
   "source": [
    "# What I have learned so far with fast.ai2:"
   ]
  },
  {
   "cell_type": "markdown",
   "metadata": {},
   "source": [
    "As Jeremy talked about COVID-19 for some time in the first two course videos, he also talked about whether and how significance and the p-value are useful for interpreting medical studies.\n",
    "\n",
    "As I am also going to use the p-value at least partially soon in my own research, it was very helpful to hear from Jeremy several kind of \"take home messages\" regarding the p-value:\n",
    "\n",
    "- People very often make the mistake that they see a p-value which is not less than e.g. 0.05 and therefore make the erroneous conclusion that there is no relationship between data.\n",
    "\n",
    "- With very little data, it is almost impossible to reach a p-value less than 0.05 for any hypothesis.\n",
    "\n",
    "- You can use the p-value to find out whether you have gathered enough data for your own project. If you cannot reject your null hypothesis, imagine your null hypothesis vice versa. If you pretend the opposite of your first\n",
    "\n",
    "First: especially a p-value below 0.01 may tell you, that there is a high chance, that the relationship between the data that was investigated was probably not created by pure chance.\n",
    "\n",
    "Second: You can use the p-value to find out whether you have gathered enough data for your own project."
   ]
  },
  {
   "cell_type": "code",
   "execution_count": null,
   "metadata": {},
   "outputs": [],
   "source": []
  }
 ],
 "metadata": {
  "kernelspec": {
   "display_name": "fastai2",
   "language": "python",
   "name": "fastai2"
  },
  "language_info": {
   "codemirror_mode": {
    "name": "ipython",
    "version": 3
   },
   "file_extension": ".py",
   "mimetype": "text/x-python",
   "name": "python",
   "nbconvert_exporter": "python",
   "pygments_lexer": "ipython3",
   "version": "3.7.6"
  }
 },
 "nbformat": 4,
 "nbformat_minor": 4
}
